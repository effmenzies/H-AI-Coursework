{
 "cells": [
  {
   "cell_type": "code",
   "execution_count": 6,
   "metadata": {},
   "outputs": [
    {
     "data": {
      "text/html": [
       "<div>\n",
       "<style scoped>\n",
       "    .dataframe tbody tr th:only-of-type {\n",
       "        vertical-align: middle;\n",
       "    }\n",
       "\n",
       "    .dataframe tbody tr th {\n",
       "        vertical-align: top;\n",
       "    }\n",
       "\n",
       "    .dataframe thead th {\n",
       "        text-align: right;\n",
       "    }\n",
       "</style>\n",
       "<table border=\"1\" class=\"dataframe\">\n",
       "  <thead>\n",
       "    <tr style=\"text-align: right;\">\n",
       "      <th></th>\n",
       "      <th>Input</th>\n",
       "      <th>Output</th>\n",
       "    </tr>\n",
       "  </thead>\n",
       "  <tbody>\n",
       "    <tr>\n",
       "      <th>0</th>\n",
       "      <td>who are you?</td>\n",
       "      <td>agent_acquaintance</td>\n",
       "    </tr>\n",
       "    <tr>\n",
       "      <th>1</th>\n",
       "      <td>all about you</td>\n",
       "      <td>agent_acquaintance</td>\n",
       "    </tr>\n",
       "    <tr>\n",
       "      <th>2</th>\n",
       "      <td>what is your personality</td>\n",
       "      <td>agent_acquaintance</td>\n",
       "    </tr>\n",
       "    <tr>\n",
       "      <th>3</th>\n",
       "      <td>define yourself</td>\n",
       "      <td>agent_acquaintance</td>\n",
       "    </tr>\n",
       "    <tr>\n",
       "      <th>4</th>\n",
       "      <td>what are you</td>\n",
       "      <td>agent_acquaintance</td>\n",
       "    </tr>\n",
       "  </tbody>\n",
       "</table>\n",
       "</div>"
      ],
      "text/plain": [
       "                      Input              Output\n",
       "0              who are you?  agent_acquaintance\n",
       "1             all about you  agent_acquaintance\n",
       "2  what is your personality  agent_acquaintance\n",
       "3           define yourself  agent_acquaintance\n",
       "4              what are you  agent_acquaintance"
      ]
     },
     "execution_count": 6,
     "metadata": {},
     "output_type": "execute_result"
    }
   ],
   "source": [
    "import pandas as pd\n",
    "smalltalk_df = pd.read_csv('data/smalltalk_intent.csv')\n",
    "smalltalk_df['Output'] = smalltalk_df['Intent'].str.split('_').str[1:].apply('_'.join)\n",
    "smalltalk_df = smalltalk_df.rename(columns= {'Utterances':'Input'})\n",
    "smalltalk_df = smalltalk_df[['Input','Output']]\n",
    "smalltalk_df = smalltalk_df.drop_duplicates()\n",
    "smalltalk_df.head()\n"
   ]
  },
  {
   "cell_type": "code",
   "execution_count": 45,
   "metadata": {},
   "outputs": [
    {
     "name": "stdout",
     "output_type": "stream",
     "text": [
      "{'agent', 'greetings', 'confirmation', 'emotions', 'user', 'dialog', 'appraisal'}\n",
      "{'welcome', 'well_done', 'no_problem', 'thank_you', 'good', 'bad'}\n"
     ]
    }
   ],
   "source": [
    "labels = set(smalltalk_df['Intent'])\n",
    "print(labels)\n",
    "greetings_labels = set(smalltalk_df[smalltalk_df['Intent']=='appraisal']['Output'])\n",
    "print(greetings_labels)\n",
    "\n"
   ]
  },
  {
   "cell_type": "code",
   "execution_count": 7,
   "metadata": {},
   "outputs": [
    {
     "ename": "KeyError",
     "evalue": "'Subject'",
     "output_type": "error",
     "traceback": [
      "\u001b[1;31m---------------------------------------------------------------------------\u001b[0m",
      "\u001b[1;31mKeyError\u001b[0m                                  Traceback (most recent call last)",
      "File \u001b[1;32mc:\\Users\\effme\\anaconda3\\lib\\site-packages\\pandas\\core\\indexes\\base.py:3653\u001b[0m, in \u001b[0;36mIndex.get_loc\u001b[1;34m(self, key)\u001b[0m\n\u001b[0;32m   3652\u001b[0m \u001b[38;5;28;01mtry\u001b[39;00m:\n\u001b[1;32m-> 3653\u001b[0m     \u001b[38;5;28;01mreturn\u001b[39;00m \u001b[38;5;28;43mself\u001b[39;49m\u001b[38;5;241;43m.\u001b[39;49m\u001b[43m_engine\u001b[49m\u001b[38;5;241;43m.\u001b[39;49m\u001b[43mget_loc\u001b[49m\u001b[43m(\u001b[49m\u001b[43mcasted_key\u001b[49m\u001b[43m)\u001b[49m\n\u001b[0;32m   3654\u001b[0m \u001b[38;5;28;01mexcept\u001b[39;00m \u001b[38;5;167;01mKeyError\u001b[39;00m \u001b[38;5;28;01mas\u001b[39;00m err:\n",
      "File \u001b[1;32mc:\\Users\\effme\\anaconda3\\lib\\site-packages\\pandas\\_libs\\index.pyx:147\u001b[0m, in \u001b[0;36mpandas._libs.index.IndexEngine.get_loc\u001b[1;34m()\u001b[0m\n",
      "File \u001b[1;32mc:\\Users\\effme\\anaconda3\\lib\\site-packages\\pandas\\_libs\\index.pyx:176\u001b[0m, in \u001b[0;36mpandas._libs.index.IndexEngine.get_loc\u001b[1;34m()\u001b[0m\n",
      "File \u001b[1;32mpandas\\_libs\\hashtable_class_helper.pxi:7080\u001b[0m, in \u001b[0;36mpandas._libs.hashtable.PyObjectHashTable.get_item\u001b[1;34m()\u001b[0m\n",
      "File \u001b[1;32mpandas\\_libs\\hashtable_class_helper.pxi:7088\u001b[0m, in \u001b[0;36mpandas._libs.hashtable.PyObjectHashTable.get_item\u001b[1;34m()\u001b[0m\n",
      "\u001b[1;31mKeyError\u001b[0m: 'Subject'",
      "\nThe above exception was the direct cause of the following exception:\n",
      "\u001b[1;31mKeyError\u001b[0m                                  Traceback (most recent call last)",
      "Cell \u001b[1;32mIn[7], line 3\u001b[0m\n\u001b[0;32m      1\u001b[0m df_dict \u001b[38;5;241m=\u001b[39m {}\n\u001b[0;32m      2\u001b[0m \u001b[38;5;28;01mfor\u001b[39;00m label \u001b[38;5;129;01min\u001b[39;00m labels:\n\u001b[1;32m----> 3\u001b[0m     df_dict[label] \u001b[38;5;241m=\u001b[39m smalltalk_df[\u001b[43msmalltalk_df\u001b[49m\u001b[43m[\u001b[49m\u001b[38;5;124;43m'\u001b[39;49m\u001b[38;5;124;43mSubject\u001b[39;49m\u001b[38;5;124;43m'\u001b[39;49m\u001b[43m]\u001b[49m\u001b[38;5;241m==\u001b[39mlabel]\n",
      "File \u001b[1;32mc:\\Users\\effme\\anaconda3\\lib\\site-packages\\pandas\\core\\frame.py:3761\u001b[0m, in \u001b[0;36mDataFrame.__getitem__\u001b[1;34m(self, key)\u001b[0m\n\u001b[0;32m   3759\u001b[0m \u001b[38;5;28;01mif\u001b[39;00m \u001b[38;5;28mself\u001b[39m\u001b[38;5;241m.\u001b[39mcolumns\u001b[38;5;241m.\u001b[39mnlevels \u001b[38;5;241m>\u001b[39m \u001b[38;5;241m1\u001b[39m:\n\u001b[0;32m   3760\u001b[0m     \u001b[38;5;28;01mreturn\u001b[39;00m \u001b[38;5;28mself\u001b[39m\u001b[38;5;241m.\u001b[39m_getitem_multilevel(key)\n\u001b[1;32m-> 3761\u001b[0m indexer \u001b[38;5;241m=\u001b[39m \u001b[38;5;28;43mself\u001b[39;49m\u001b[38;5;241;43m.\u001b[39;49m\u001b[43mcolumns\u001b[49m\u001b[38;5;241;43m.\u001b[39;49m\u001b[43mget_loc\u001b[49m\u001b[43m(\u001b[49m\u001b[43mkey\u001b[49m\u001b[43m)\u001b[49m\n\u001b[0;32m   3762\u001b[0m \u001b[38;5;28;01mif\u001b[39;00m is_integer(indexer):\n\u001b[0;32m   3763\u001b[0m     indexer \u001b[38;5;241m=\u001b[39m [indexer]\n",
      "File \u001b[1;32mc:\\Users\\effme\\anaconda3\\lib\\site-packages\\pandas\\core\\indexes\\base.py:3655\u001b[0m, in \u001b[0;36mIndex.get_loc\u001b[1;34m(self, key)\u001b[0m\n\u001b[0;32m   3653\u001b[0m     \u001b[38;5;28;01mreturn\u001b[39;00m \u001b[38;5;28mself\u001b[39m\u001b[38;5;241m.\u001b[39m_engine\u001b[38;5;241m.\u001b[39mget_loc(casted_key)\n\u001b[0;32m   3654\u001b[0m \u001b[38;5;28;01mexcept\u001b[39;00m \u001b[38;5;167;01mKeyError\u001b[39;00m \u001b[38;5;28;01mas\u001b[39;00m err:\n\u001b[1;32m-> 3655\u001b[0m     \u001b[38;5;28;01mraise\u001b[39;00m \u001b[38;5;167;01mKeyError\u001b[39;00m(key) \u001b[38;5;28;01mfrom\u001b[39;00m \u001b[38;5;21;01merr\u001b[39;00m\n\u001b[0;32m   3656\u001b[0m \u001b[38;5;28;01mexcept\u001b[39;00m \u001b[38;5;167;01mTypeError\u001b[39;00m:\n\u001b[0;32m   3657\u001b[0m     \u001b[38;5;66;03m# If we have a listlike key, _check_indexing_error will raise\u001b[39;00m\n\u001b[0;32m   3658\u001b[0m     \u001b[38;5;66;03m#  InvalidIndexError. Otherwise we fall through and re-raise\u001b[39;00m\n\u001b[0;32m   3659\u001b[0m     \u001b[38;5;66;03m#  the TypeError.\u001b[39;00m\n\u001b[0;32m   3660\u001b[0m     \u001b[38;5;28mself\u001b[39m\u001b[38;5;241m.\u001b[39m_check_indexing_error(key)\n",
      "\u001b[1;31mKeyError\u001b[0m: 'Subject'"
     ]
    }
   ],
   "source": [
    "df_dict = {}\n",
    "for label in labels:\n",
    "    df_dict[label] = smalltalk_df[smalltalk_df['Subject']==label]"
   ]
  },
  {
   "cell_type": "code",
   "execution_count": 36,
   "metadata": {},
   "outputs": [],
   "source": [
    "from sklearn.model_selection import train_test_split\n",
    "\n",
    "inputs = smalltalk_df['Input'].values\n",
    "labels = smalltalk_df['Output'].values\n",
    "\n",
    "X_train, X_test, y_train, y_test = train_test_split(inputs, labels, stratify=labels, test_size=0.3, random_state=1)\n"
   ]
  },
  {
   "cell_type": "code",
   "execution_count": 37,
   "metadata": {},
   "outputs": [],
   "source": [
    "from sklearn . linear_model import LogisticRegression\n",
    "from sklearn.svm import SVC\n",
    "from sklearn.feature_extraction.text import TfidfVectorizer\n",
    "import numpy as np, matplotlib.pyplot as plt\n",
    "from sklearn . metrics import accuracy_score , f1_score , confusion_matrix\n",
    "\n",
    "vect = TfidfVectorizer(sublinear_tf=True, use_idf=True)\n",
    "X_train_tf = vect.fit_transform(X_train)\n",
    "scores = []\n",
    "cs = []\n",
    "#clf = SVC(C=1.2, kernel='rbf').fit(X_train_tf, y_train)\n",
    "clf = LogisticRegression(penalty='l2', C=1.0, random_state=3, solver='lbfgs').fit(X_train_tf, y_train)\n",
    "\n",
    "X_test_tf = vect.transform(X_test)\n",
    "predicted = clf.predict(X_test_tf)\n",
    "scores.append(accuracy_score(y_test, predicted))\n"
   ]
  },
  {
   "cell_type": "code",
   "execution_count": 38,
   "metadata": {},
   "outputs": [
    {
     "name": "stdout",
     "output_type": "stream",
     "text": [
      "[[7 0 0 ... 0 0 0]\n",
      " [0 3 0 ... 0 0 0]\n",
      " [0 0 2 ... 0 0 0]\n",
      " ...\n",
      " [0 0 0 ... 0 0 0]\n",
      " [1 0 0 ... 0 4 0]\n",
      " [0 0 0 ... 0 0 4]]\n",
      "0.7377483443708609\n"
     ]
    },
    {
     "data": {
      "text/plain": [
       "array(['greetings_whatsup'], dtype=object)"
      ]
     },
     "execution_count": 38,
     "metadata": {},
     "output_type": "execute_result"
    }
   ],
   "source": [
    "\n",
    "X_test_tf = vect.transform(X_test)\n",
    "predicted = clf.predict(X_test_tf)\n",
    "print(confusion_matrix(y_test, predicted))\n",
    "print(accuracy_score(y_test, predicted))\n",
    "X_test_tf = vect.transform(['what are you thinking?'])\n",
    "clf.predict(X_test_tf)"
   ]
  },
  {
   "cell_type": "code",
   "execution_count": 39,
   "metadata": {},
   "outputs": [
    {
     "data": {
      "text/plain": [
       "array(['confirmation_no', 'greetings_how_are_you', 'user_likes_agent'],\n",
       "      dtype=object)"
      ]
     },
     "execution_count": 39,
     "metadata": {},
     "output_type": "execute_result"
    }
   ],
   "source": [
    "new_data = [\"I don't agree with that.\", \"how are you?\",\"do you like me?\"]\n",
    "processed_new_data = vect.transform(new_data)\n",
    "clf.predict(processed_new_data)"
   ]
  },
  {
   "cell_type": "code",
   "execution_count": 13,
   "metadata": {},
   "outputs": [
    {
     "name": "stdout",
     "output_type": "stream",
     "text": [
      "['agent_acquaintance' 'agent_beautiful' 'agent_real']\n"
     ]
    },
    {
     "data": {
      "text/plain": [
       "'agent_acquaintance'"
      ]
     },
     "execution_count": 13,
     "metadata": {},
     "output_type": "execute_result"
    }
   ],
   "source": [
    "import numpy as np\n",
    "import statistics\n",
    "l=np.array([1,2,3,5,2,8,4,2,7,3,7,9,4,2])\n",
    "matches=l.argsort()[-3:][::-1]\n",
    "\n",
    "print(smalltalk_df.iloc[[5,100,400]]['Output'].values)\n",
    "statistics.mode(smalltalk_df.iloc[[5,100,400]]['Output'].values)\n"
   ]
  },
  {
   "cell_type": "code",
   "execution_count": null,
   "metadata": {},
   "outputs": [],
   "source": []
  },
  {
   "cell_type": "code",
   "execution_count": 155,
   "metadata": {},
   "outputs": [
    {
     "data": {
      "text/html": [
       "<div>\n",
       "<style scoped>\n",
       "    .dataframe tbody tr th:only-of-type {\n",
       "        vertical-align: middle;\n",
       "    }\n",
       "\n",
       "    .dataframe tbody tr th {\n",
       "        vertical-align: top;\n",
       "    }\n",
       "\n",
       "    .dataframe thead th {\n",
       "        text-align: right;\n",
       "    }\n",
       "</style>\n",
       "<table border=\"1\" class=\"dataframe\">\n",
       "  <thead>\n",
       "    <tr style=\"text-align: right;\">\n",
       "      <th></th>\n",
       "      <th>Input</th>\n",
       "      <th>Intent</th>\n",
       "      <th>Output</th>\n",
       "    </tr>\n",
       "  </thead>\n",
       "  <tbody>\n",
       "    <tr>\n",
       "      <th>61</th>\n",
       "      <td>Read me a poem by Shakespeare.</td>\n",
       "      <td>shakespeare_poems</td>\n",
       "      <td>Certainly! Here's a beautiful poem by William ...</td>\n",
       "    </tr>\n",
       "  </tbody>\n",
       "</table>\n",
       "</div>"
      ],
      "text/plain": [
       "                             Input             Intent  \\\n",
       "61  Read me a poem by Shakespeare.  shakespeare_poems   \n",
       "\n",
       "                                               Output  \n",
       "61  Certainly! Here's a beautiful poem by William ...  "
      ]
     },
     "execution_count": 155,
     "metadata": {},
     "output_type": "execute_result"
    }
   ],
   "source": [
    "import json\n",
    "\n",
    "with open('../data/intents.json','r') as file:\n",
    "    data = json.load(file)['intents']\n",
    "\n",
    "norm_data=[]\n",
    "for tag in data:\n",
    "    patterns = tag['patterns']\n",
    "    responses = tag['responses']\n",
    "    for pattern, response in zip(patterns, responses):\n",
    "        norm_data.append({'Input':pattern, 'Intent':tag['tag'], 'Output':response})\n",
    "intents_df = pd.DataFrame(norm_data)\n",
    "intents_df[intents_df['Intent']=='shakespeare_poems']"
   ]
  },
  {
   "cell_type": "code",
   "execution_count": null,
   "metadata": {},
   "outputs": [
    {
     "data": {
      "text/plain": [
       "'do'"
      ]
     },
     "execution_count": 42,
     "metadata": {},
     "output_type": "execute_result"
    }
   ],
   "source": [
    "import pandas as pd\n",
    "import joblib, nltk, re, pprint, string, numpy as np, statistics, json\n",
    "from sklearn.model_selection import train_test_split\n",
    "from sklearn.linear_model import LogisticRegression\n",
    "from sklearn.svm import SVC\n",
    "from sklearn.feature_extraction.text import TfidfVectorizer\n",
    "from nltk.stem.porter import PorterStemmer\n",
    "from nltk.corpus import stopwords\n",
    "from sklearn.metrics.pairwise import cosine_similarity\n",
    "\n",
    "def stemmer(doc):\n",
    "    stem = PorterStemmer()\n",
    "    analyzer = TfidfVectorizer().build_analyzer()\n",
    "    return [stem.stem(w) for w in analyzer(doc)]\n",
    "\n",
    "\n",
    "def create_df(filename):\n",
    "    df = pd.read_csv(f'data/{filename}.csv')\n",
    "    joblib.dump(df, f'dfs/{filename}.joblib')\n",
    "    return True\n",
    "\n",
    "\n",
    "\n",
    "def create_dt_matrix(filename):\n",
    "    df = joblib.load(f'dfs/{filename}.joblib')\n",
    "    vect = TfidfVectorizer(use_idf=True, sublinear_tf=True, analyzer=stemmer, lowercase=True)\n",
    "    matrix = vect.fit_transform(df['Utterance'].values)\n",
    "    joblib.dump(matrix,f'dtm/{filename}.joblib')\n",
    "    joblib.dump(vect,f'vects/{filename}.joblib')\n",
    "    return True\n",
    "\n",
    "def cosine_sim(input, filename):\n",
    "    dtm = joblib.load(f'dtm/{filename}.joblib')\n",
    "    df = joblib.load(f'dfs/{filename}.joblib')\n",
    "    vect=joblib.load(f'vects/{filename}.joblib')\n",
    "    similarities = cosine_similarity(vect.transform([input]), dtm).flatten()\n",
    "    match = similarities.argsort()[-1:]\n",
    "    return (df.iloc[match]['Intent'].values[0])\n",
    "\n",
    "def intent_init():\n",
    "    for filename in ['confirmations','greetings','user']:\n",
    "        create_df(filename)\n",
    "        create_dt_matrix(filename)\n",
    "\n",
    "intent_init()\n",
    "\n",
    "cosine_sim('what are you doing','greetings')\n"
   ]
  },
  {
   "cell_type": "code",
   "execution_count": null,
   "metadata": {},
   "outputs": [
    {
     "data": {
      "text/plain": [
       "'Bonds and stocks are both securities , but the major difference between the two is that (capital) stockholders have an equity stake in the company (i.e. they are owners), whereas bondholders have a creditor stake in the company (i.e. they are lenders).'"
      ]
     },
     "execution_count": 63,
     "metadata": {},
     "output_type": "execute_result"
    }
   ],
   "source": [
    "def stemmer_sw(doc):\n",
    "    stem = PorterStemmer()\n",
    "    analyzer = TfidfVectorizer(stop_words=stopwords.words('english')).build_analyzer()\n",
    "    return [stem.stem(w) for w in analyzer(doc)]\n",
    "\n",
    "def create_dt_matrix(filename):\n",
    "    df = joblib.load(f'dfs/{filename}.joblib')\n",
    "    vect = TfidfVectorizer(use_idf=True, sublinear_tf=True, analyzer=stemmer_sw, lowercase=True)\n",
    "    matrix = vect.fit_transform(df['Answer'].values)\n",
    "    joblib.dump(matrix,f'dtm/{filename}_a.joblib')\n",
    "    joblib.dump(vect,f'vects/{filename}_a.joblib')\n",
    "    matrix = vect.fit_transform(df['Question'].values)\n",
    "    joblib.dump(matrix,f'dtm/{filename}_q.joblib')\n",
    "    joblib.dump(vect,f'vects/{filename}_q.joblib')\n",
    "\n",
    "def cosine_sim_answer(input, filename):\n",
    "    vect = joblib.load(f'vects/{filename}_a.joblib')\n",
    "    dtm = joblib.load(f'dtm/{filename}_a.joblib')\n",
    "    df = joblib.load(f'dfs/{filename}.joblib')\n",
    "    similarities = cosine_similarity(vect.transform([input]), dtm).flatten()\n",
    "    match = similarities.argsort()[-1:]\n",
    "    return df.iloc[match]['Answer'].values[0]\n",
    "\n",
    "def cosine_sim_question(input,filename):\n",
    "    vect = joblib.load(f'vects/{filename}_q.joblib')\n",
    "    dtm = joblib.load(f'dtm/{filename}_q.joblib')\n",
    "    df = joblib.load(f'dfs/{filename}.joblib')\n",
    "    similarities = cosine_similarity(vect.transform([input]), dtm).flatten()\n",
    "    match = similarities.argsort()[-1:]\n",
    "    return df.iloc[match]['Question'].values[0]\n"
   ]
  },
  {
   "cell_type": "code",
   "execution_count": 65,
   "metadata": {},
   "outputs": [
    {
     "name": "stdout",
     "output_type": "stream",
     "text": [
      "0\n",
      "1\n",
      "1\n",
      "2\n",
      "2\n",
      "3\n",
      "3\n",
      "4\n",
      "4\n",
      "5\n"
     ]
    }
   ],
   "source": [
    "c=0\n",
    "while c<5:\n",
    "    print(c)\n",
    "    c+=1\n",
    "    print(c)"
   ]
  }
 ],
 "metadata": {
  "kernelspec": {
   "display_name": "base",
   "language": "python",
   "name": "python3"
  },
  "language_info": {
   "codemirror_mode": {
    "name": "ipython",
    "version": 3
   },
   "file_extension": ".py",
   "mimetype": "text/x-python",
   "name": "python",
   "nbconvert_exporter": "python",
   "pygments_lexer": "ipython3",
   "version": "3.8.20"
  }
 },
 "nbformat": 4,
 "nbformat_minor": 2
}
