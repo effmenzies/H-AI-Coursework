{
 "cells": [
  {
   "cell_type": "code",
   "execution_count": 2,
   "metadata": {},
   "outputs": [],
   "source": [
    "import pandas as pd\n",
    "import os\n",
    "from sklearn.model_selection import train_test_split\n",
    "from sklearn.svm import SVC\n",
    "from sklearn.feature_extraction.text import TfidfVectorizer\n",
    "\n",
    "cats = ['pos','neg']\n",
    "data = []\n",
    "labels = []\n",
    "for cat in cats:\n",
    "    filepath = '../data/movie_reviews'\n",
    "    filepath += f'/{cat}'\n",
    "    for file in os.listdir(filepath):\n",
    "        new_path = filepath + f'/{file}'\n",
    "        with open(new_path, encoding='utf8', errors='ignore', mode='r') as review:\n",
    "            data.append(review.read())\n",
    "            labels.append(cat)\n",
    "X_train, X_test, y_train, y_test = train_test_split(data, labels, stratify=labels, test_size=0.25, random_state=42)\n",
    "vect = TfidfVectorizer(sublinear_tf=True, use_idf=True, lowercase=True)\n",
    "X_train_tf = vect.fit_transform(X_train)\n",
    "clf = SVC(C=1.0, kernel='rbf', probability=True).fit(X_train_tf, y_train)"
   ]
  },
  {
   "cell_type": "code",
   "execution_count": 9,
   "metadata": {},
   "outputs": [],
   "source": [
    "\n",
    "preds={}\n",
    "for data in X_test:\n",
    "    transformed = vect.transform([data])\n",
    "    if (abs(0.5 - clf.predict_proba(transformed)[0][0]))<0.1:\n",
    "        preds['neutral'] = data\n",
    "    else:\n",
    "        preds[clf.predict(transformed)[0]] = data\n"
   ]
  },
  {
   "cell_type": "code",
   "execution_count": 28,
   "metadata": {},
   "outputs": [
    {
     "name": "stdout",
     "output_type": "stream",
     "text": [
      "oh no.. womp womp?\n"
     ]
    }
   ],
   "source": [
    "input = [\"I feel bad\"]\n",
    "transformed = vect.transform(input)\n",
    "if (abs(0.5 - clf.predict_proba(transformed)[0][0]))<0.2:\n",
    "    print('how does that make you feel?')\n",
    "else:\n",
    "    if clf.predict(transformed)[0] == 'pos':\n",
    "        print('thats great!')\n",
    "    else:\n",
    "        print('oh no.. womp womp?')\n",
    "\n"
   ]
  }
 ],
 "metadata": {
  "kernelspec": {
   "display_name": "base",
   "language": "python",
   "name": "python3"
  },
  "language_info": {
   "codemirror_mode": {
    "name": "ipython",
    "version": 3
   },
   "file_extension": ".py",
   "mimetype": "text/x-python",
   "name": "python",
   "nbconvert_exporter": "python",
   "pygments_lexer": "ipython3",
   "version": "3.8.20"
  }
 },
 "nbformat": 4,
 "nbformat_minor": 2
}
