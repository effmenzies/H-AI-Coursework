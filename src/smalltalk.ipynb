{
 "cells": [
  {
   "cell_type": "code",
   "execution_count": 61,
   "metadata": {},
   "outputs": [
    {
     "data": {
      "text/plain": [
       "{'acquaintance',\n",
       " 'age',\n",
       " 'angry',\n",
       " 'annoying',\n",
       " 'answer_my_question',\n",
       " 'back',\n",
       " 'bad',\n",
       " 'be_clever',\n",
       " 'beautiful',\n",
       " 'birth_date',\n",
       " 'bored',\n",
       " 'boring',\n",
       " 'boss',\n",
       " 'busy',\n",
       " 'bye',\n",
       " 'can_not_sleep',\n",
       " 'cancel',\n",
       " 'chatbot',\n",
       " 'clever',\n",
       " 'crazy',\n",
       " 'does_not_want_to_talk',\n",
       " 'excited',\n",
       " 'fired',\n",
       " 'funny',\n",
       " 'going_to_bed',\n",
       " 'good',\n",
       " 'goodevening',\n",
       " 'goodmorning',\n",
       " 'goodnight',\n",
       " 'ha_ha',\n",
       " 'happy',\n",
       " 'has_birthday',\n",
       " 'hello',\n",
       " 'here',\n",
       " 'hold_on',\n",
       " 'how_are_you',\n",
       " 'hug',\n",
       " 'hungry',\n",
       " 'i_do_not_care',\n",
       " 'joking',\n",
       " 'likes_agent',\n",
       " 'lonely',\n",
       " 'looks_like',\n",
       " 'loves_agent',\n",
       " 'marry_user',\n",
       " 'misses_agent',\n",
       " 'my_friend',\n",
       " 'needs_advice',\n",
       " 'nice_to_meet_you',\n",
       " 'nice_to_see_you',\n",
       " 'nice_to_talk_to_you',\n",
       " 'no',\n",
       " 'no_problem',\n",
       " 'occupation',\n",
       " 'origin',\n",
       " 'ready',\n",
       " 'real',\n",
       " 'residence',\n",
       " 'right',\n",
       " 'sad',\n",
       " 'sleepy',\n",
       " 'sorry',\n",
       " 'sure',\n",
       " 'talk_to_me',\n",
       " 'testing_agent',\n",
       " 'thank_you',\n",
       " 'there',\n",
       " 'tired',\n",
       " 'waits',\n",
       " 'wants_to_see_agent_again',\n",
       " 'wants_to_talk',\n",
       " 'welcome',\n",
       " 'well_done',\n",
       " 'what_do_you_mean',\n",
       " 'whatsup',\n",
       " 'will_be_back',\n",
       " 'wow',\n",
       " 'wrong',\n",
       " 'yes'}"
      ]
     },
     "execution_count": 61,
     "metadata": {},
     "output_type": "execute_result"
    }
   ],
   "source": [
    "import pandas as pd\n",
    "smalltalk_df = pd.read_csv('../data/smalltalk_intent.csv')\n",
    "smalltalk_df['Intent'] = smalltalk_df['Intent'].str[10:]\n",
    "smalltalk_df['Subject'] = smalltalk_df['Intent'].str.split('_').str[0]\n",
    "smalltalk_df['Intent'] = smalltalk_df['Intent'].str.split('_').str[1:].apply('_'.join)\n",
    "smalltalk_df = smalltalk_df.rename(columns= {'Utterances':'Input'})\n",
    "smalltalk_df = smalltalk_df[['Input','Subject','Intent']]\n",
    "smalltalk_df = smalltalk_df.drop_duplicates()\n",
    "set(smalltalk_df['Intent'])"
   ]
  },
  {
   "cell_type": "code",
   "execution_count": 77,
   "metadata": {},
   "outputs": [],
   "source": [
    "labels = set(smalltalk_df['Subject'])"
   ]
  },
  {
   "cell_type": "code",
   "execution_count": 78,
   "metadata": {},
   "outputs": [],
   "source": [
    "df_dict = {}\n",
    "for label in labels:\n",
    "    df_dict[label] = smalltalk_df[smalltalk_df['Subject']==label]"
   ]
  },
  {
   "cell_type": "code",
   "execution_count": 81,
   "metadata": {},
   "outputs": [],
   "source": [
    "from sklearn.model_selection import train_test_split\n",
    "\n",
    "inputs = smalltalk_df['Input'].values\n",
    "labels = smalltalk_df['Subject'].values\n",
    "\n",
    "X_train, X_test, y_train, y_test = train_test_split(inputs, labels, stratify=labels, test_size=0.3, random_state=1)\n"
   ]
  },
  {
   "cell_type": "code",
   "execution_count": 105,
   "metadata": {},
   "outputs": [
    {
     "data": {
      "text/plain": [
       "[<matplotlib.lines.Line2D at 0x234d3463b20>]"
      ]
     },
     "execution_count": 105,
     "metadata": {},
     "output_type": "execute_result"
    },
    {
     "data": {
      "image/png": "[encoded data removed]",
      "text/plain": [
       "<Figure size 640x480 with 1 Axes>"
      ]
     },
     "metadata": {},
     "output_type": "display_data"
    }
   ],
   "source": [
    "from sklearn . linear_model import LogisticRegression\n",
    "from sklearn.svm import SVC\n",
    "from sklearn.feature_extraction.text import TfidfVectorizer\n",
    "import numpy as np, matplotlib.pyplot as plt\n",
    "from sklearn . metrics import accuracy_score , f1_score , confusion_matrix\n",
    "\n",
    "vect = TfidfVectorizer(sublinear_tf=True, use_idf=True)\n",
    "X_train_tf = vect.fit_transform(X_train)\n",
    "scores = []\n",
    "cs = []\n",
    "for c in np.arange(0.1,2, 0.1):\n",
    "    clf = SVC(C=c, kernel='rbf').fit(X_train_tf, y_train)\n",
    "    X_test_tf = vect.transform(X_test)\n",
    "    predicted = clf.predict(X_test_tf)\n",
    "    scores.append(accuracy_score(y_test, predicted))\n",
    "    cs.append(c)\n",
    "\n",
    "plt.plot(cs, scores)"
   ]
  },
  {
   "cell_type": "code",
   "execution_count": null,
   "metadata": {},
   "outputs": [
    {
     "name": "stdout",
     "output_type": "stream",
     "text": [
      "[[266   0   2   0   0   1   5]\n",
      " [  5  53  15   0   0   1   2]\n",
      " [  0   1  72   4   0   1   2]\n",
      " [  2   1   3  31   0   1   1]\n",
      " [  1   0   4   0   6   0   2]\n",
      " [  3   3   3   0   0  69   5]\n",
      " [  8   2   6   2   0   1 181]]\n",
      "0.8862745098039215\n"
     ]
    }
   ],
   "source": [
    "\n",
    "X_test_tf = vect.transform(X_test)\n",
    "predicted = clf.predict(X_test_tf)\n",
    "print(confusion_matrix(y_test, predicted))\n",
    "print(accuracy_score(y_test, predicted))"
   ]
  },
  {
   "cell_type": "code",
   "execution_count": 85,
   "metadata": {},
   "outputs": [
    {
     "data": {
      "text/plain": [
       "array(['confirmation', 'greetings', 'user'], dtype=object)"
      ]
     },
     "execution_count": 85,
     "metadata": {},
     "output_type": "execute_result"
    }
   ],
   "source": [
    "new_data = [\"I don't agree with that.\", \"how are you doing today?\",\"do you like me?\"]\n",
    "processed_new_data = vect.transform(new_data)\n",
    "clf.predict(processed_new_data)"
   ]
  }
 ],
 "metadata": {
  "language_info": {
   "name": "python"
  }
 },
 "nbformat": 4,
 "nbformat_minor": 2
}
